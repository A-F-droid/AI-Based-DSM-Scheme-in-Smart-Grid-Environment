{
 "cells": [
  {
   "cell_type": "markdown",
   "id": "eede43d5-895f-444a-9318-d63abf9ef252",
   "metadata": {},
   "source": [
    "# The necessary libraries imports"
   ]
  },
  {
   "cell_type": "code",
   "execution_count": 2,
   "id": "e9ce70ed-25e6-46ff-932d-e8a79fec73c0",
   "metadata": {},
   "outputs": [],
   "source": [
    "import pandas as pd\n",
    "import numpy as np\n",
    "import matplotlib as plt\n",
    "import seaborn as sns"
   ]
  }
 ],
 "metadata": {
  "kernelspec": {
   "display_name": "Python 3 (ipykernel)",
   "language": "python",
   "name": "python3"
  },
  "language_info": {
   "codemirror_mode": {
    "name": "ipython",
    "version": 3
   },
   "file_extension": ".py",
   "mimetype": "text/x-python",
   "name": "python",
   "nbconvert_exporter": "python",
   "pygments_lexer": "ipython3",
   "version": "3.13.7"
  }
 },
 "nbformat": 4,
 "nbformat_minor": 5
}
